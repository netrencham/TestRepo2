{
 "cells": [
  {
   "cell_type": "markdown",
   "id": "833fb93b-d858-4b38-aae6-1178fc18d166",
   "metadata": {},
   "source": [
    "# Data Science Tools and Ecosystem"
   ]
  },
  {
   "cell_type": "markdown",
   "id": "546d90ab-b0bb-441f-8db2-af489805e895",
   "metadata": {},
   "source": [
    "In this notebook, Data Science tools and ecosystem are summarised."
   ]
  },
  {
   "cell_type": "markdown",
   "id": "f52aeea9-ee4d-4e08-b308-d4315f9b8b92",
   "metadata": {},
   "source": [
    "**Objectives:**\n",
    "- Created an ordered list of popular languages used in data science\n",
    "- Create an ordered list of common libraries used in data science\n",
    "- Create a table listing development environment open source tools used in data science\n",
    "- Evaluate several arithmetic expressions using Python"
   ]
  },
  {
   "cell_type": "markdown",
   "id": "02dbc8e2-d398-4f6a-a3e8-000977939a06",
   "metadata": {},
   "source": [
    "## Author\n",
    "Natasha Trencham"
   ]
  },
  {
   "cell_type": "markdown",
   "id": "32b9fa70-9dcd-4f1c-a166-f61de4b915b0",
   "metadata": {},
   "source": [
    "Some of the popular languages used by data scientists are:\n",
    "\n",
    "1. Python\n",
    "2. R\n",
    "3. SQL\n",
    "4. Julia"
   ]
  },
  {
   "cell_type": "markdown",
   "id": "6362b2ae-514b-47b2-952c-454230a14d13",
   "metadata": {},
   "source": [
    "Some of the commonly used libraries used by data scientists include:\n",
    "\n",
    "1. NumPy (Python)\n",
    "2. Pandas (Python)\n",
    "3. Matplotlib (Python)\n",
    "4. TensorFlow (Python)\n",
    "5. plotly (R)\n",
    "6. ggplot2 (R)\n",
    "7. caret (R)"
   ]
  },
  {
   "cell_type": "markdown",
   "id": "21676540-d5a4-48bc-8c83-d7ea6cfbd412",
   "metadata": {},
   "source": [
    "|Data Science Tools|\n",
    "|-|\n",
    "|JupyterLab/JupyterNotebook|\n",
    "|RStudio|\n",
    "|VS Code|\n",
    "|Google Colab|\n",
    "|Apache Zeppelin|"
   ]
  },
  {
   "cell_type": "markdown",
   "id": "06cc518d-7549-4a89-a75c-d7056beeaeec",
   "metadata": {},
   "source": [
    "### Below are a few examples of evaluating arithmetic expressions using Python"
   ]
  },
  {
   "cell_type": "code",
   "execution_count": 2,
   "id": "985c2d9a-bbb0-4ac2-9b41-86cf204a9fca",
   "metadata": {},
   "outputs": [
    {
     "data": {
      "text/plain": [
       "17"
      ]
     },
     "execution_count": 2,
     "metadata": {},
     "output_type": "execute_result"
    }
   ],
   "source": [
    "# This a simple arithmetic expression to mutiply then add integers. You don't need the brackets.\n",
    "3*4+5"
   ]
  },
  {
   "cell_type": "code",
   "execution_count": 3,
   "id": "8977ee71-e273-4ffd-8fbc-dbe61a157efa",
   "metadata": {},
   "outputs": [
    {
     "data": {
      "text/plain": [
       "3.3333333333333335"
      ]
     },
     "execution_count": 3,
     "metadata": {},
     "output_type": "execute_result"
    }
   ],
   "source": [
    "# This will convert 200 minutes to hours by dividing by 60\n",
    "200/60"
   ]
  },
  {
   "cell_type": "code",
   "execution_count": null,
   "id": "eef0d97b-b465-4412-84b6-5684c8fc44c4",
   "metadata": {},
   "outputs": [],
   "source": []
  }
 ],
 "metadata": {
  "kernelspec": {
   "display_name": "Python 3 (ipykernel)",
   "language": "python",
   "name": "python3"
  },
  "language_info": {
   "codemirror_mode": {
    "name": "ipython",
    "version": 3
   },
   "file_extension": ".py",
   "mimetype": "text/x-python",
   "name": "python",
   "nbconvert_exporter": "python",
   "pygments_lexer": "ipython3",
   "version": "3.11.7"
  }
 },
 "nbformat": 4,
 "nbformat_minor": 5
}
