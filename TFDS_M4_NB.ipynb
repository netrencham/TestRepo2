{
 "cells": [
  {
   "cell_type": "markdown",
   "id": "96e820d5-d6fa-431a-96bc-4ea43e33329f",
   "metadata": {},
   "source": [
    "# Execute it as a markdown cell\n",
    "# H1: This is a level 1 Heading\n",
    "## H2: This is a level 2 Heading\n",
    "### H3: This is a level 3 Heading\n",
    "#### H4: This is a level 4 Heading\n",
    "##### H5: This is a level 5 Heading\n",
    "###### H6: This is a level 6 Heading"
   ]
  },
  {
   "cell_type": "markdown",
   "id": "90f0d74c-6060-417e-baee-37410bb3d3b2",
   "metadata": {},
   "source": [
    "### This is a level 3 heading\n",
    "***Bold text!***\n",
    "Normal text\n",
    "___More bold text!___"
   ]
  },
  {
   "cell_type": "markdown",
   "id": "f3848f60-e187-442d-83da-d755010baf95",
   "metadata": {},
   "source": [
    "_Text in italics_ \n",
    "Normal text\n",
    "*More text in italics*\n",
    "****Text in bold and italics ?****"
   ]
  },
  {
   "cell_type": "markdown",
   "id": "f64d166d-8516-4009-b88c-c25d7fe2ee71",
   "metadata": {},
   "source": [
    "*Bold text*\n",
    "**Italics text**\n",
    "***Bold and italics text***"
   ]
  },
  {
   "cell_type": "markdown",
   "id": "4e5811c4-f141-4d5f-ae33-6e5331cdf4b0",
   "metadata": {},
   "source": [
    "[BBC news](https://www.bbc.com/news)"
   ]
  },
  {
   "cell_type": "markdown",
   "id": "4937cc3f-7e42-49c4-a9c5-e0961a0e7f04",
   "metadata": {},
   "source": [
    "<https://www.youtube.com/>"
   ]
  },
  {
   "cell_type": "markdown",
   "id": "1bfcce74-b52c-4076-8008-4813d10a8e47",
   "metadata": {},
   "source": [
    "![Image of Jesus](https://upload.wikimedia.org/wikipedia/commons/3/39/Vitral_em_Igreja_Santa_Efigenia.jpg)"
   ]
  },
  {
   "cell_type": "markdown",
   "id": "b889fffb-be73-4480-974d-f58d55cfd659",
   "metadata": {},
   "source": [
    "[Image of Jesus link](https://upload.wikimedia.org/wikipedia/commons/3/39/Vitral_em_Igreja_Santa_Efigenia.jpg)"
   ]
  },
  {
   "cell_type": "markdown",
   "id": "c7d57e22-080f-42c9-96f2-eaa4a443953d",
   "metadata": {},
   "source": [
    "https://upload.wikimedia.org/wikipedia/commons/3/39/Vitral_em_Igreja_Santa_Efigenia.jpg"
   ]
  },
  {
   "cell_type": "markdown",
   "id": "5af3db23-a841-4d49-a9d1-df7cc1ccf87d",
   "metadata": {},
   "source": [
    "<https://upload.wikimedia.org/wikipedia/commons/3/39/Vitral_em_Igreja_Santa_Efigenia.jpg>"
   ]
  },
  {
   "cell_type": "markdown",
   "id": "ec6f7ba9-59c3-4821-b458-eea62ed2f907",
   "metadata": {},
   "source": [
    "|First Name|Last Name|DoB|\n",
    "|-|-|-|\n",
    "|Yekusiel|Weiss|7/11/86|\n",
    "|Natasha|Trencham|10/12/91|"
   ]
  },
  {
   "cell_type": "markdown",
   "id": "4dfb6114-7ea0-476a-af62-03be740f1958",
   "metadata": {
    "jupyter": {
     "source_hidden": true
    }
   },
   "source": [
    "### Recipe for eggy bread\n",
    "\n",
    "Ingredients:\n",
    "- Eggs\n",
    "- Bread\n",
    "- Butter\n",
    "\n",
    "1. Melt butter in frying pan\n",
    "2. Break eggs and whip them up\n",
    "3. Add bread to eggs and let them soak on both sides for a few minutes\n",
    "4. Fry bread in pan until cooked\n"
   ]
  },
  {
   "cell_type": "code",
   "execution_count": 4,
   "id": "7f233e31-71e2-481e-af92-1e5866d50b99",
   "metadata": {
    "scrolled": true
   },
   "outputs": [
    {
     "data": {
      "text/plain": [
       "'Hello, Python!'"
      ]
     },
     "execution_count": 4,
     "metadata": {},
     "output_type": "execute_result"
    }
   ],
   "source": [
    "'Hello, Python!'"
   ]
  },
  {
   "cell_type": "code",
   "execution_count": 5,
   "id": "fc2cc9a5-5d27-44ae-858d-f111d60c7bdd",
   "metadata": {},
   "outputs": [
    {
     "data": {
      "text/plain": [
       "2"
      ]
     },
     "execution_count": 5,
     "metadata": {},
     "output_type": "execute_result"
    }
   ],
   "source": [
    "2"
   ]
  },
  {
   "cell_type": "code",
   "execution_count": 6,
   "id": "571da91f-738c-4acd-b475-e65382cae667",
   "metadata": {},
   "outputs": [
    {
     "data": {
      "text/plain": [
       "4"
      ]
     },
     "execution_count": 6,
     "metadata": {},
     "output_type": "execute_result"
    }
   ],
   "source": [
    "2+2"
   ]
  },
  {
   "cell_type": "code",
   "execution_count": 7,
   "id": "bf20e3fa-20d5-4fbb-9b49-de645ad399aa",
   "metadata": {
    "scrolled": true
   },
   "outputs": [
    {
     "data": {
      "text/plain": [
       "8"
      ]
     },
     "execution_count": 7,
     "metadata": {},
     "output_type": "execute_result"
    }
   ],
   "source": [
    "2*4"
   ]
  },
  {
   "cell_type": "code",
   "execution_count": 10,
   "id": "044dc112-ca60-43ef-a6fe-cd9be72335ba",
   "metadata": {
    "scrolled": true
   },
   "outputs": [
    {
     "data": {
      "text/plain": [
       "1.4142135623730951"
      ]
     },
     "execution_count": 10,
     "metadata": {},
     "output_type": "execute_result"
    }
   ],
   "source": [
    "2**0.5"
   ]
  },
  {
   "cell_type": "code",
   "execution_count": 11,
   "id": "a2f1bcc7-2e67-44f5-8d23-df57f5c241f0",
   "metadata": {},
   "outputs": [
    {
     "data": {
      "text/plain": [
       "5"
      ]
     },
     "execution_count": 11,
     "metadata": {},
     "output_type": "execute_result"
    }
   ],
   "source": [
    "# Execute this cell by clicking Shift + Enter\n",
    "\n",
    "2+3"
   ]
  },
  {
   "cell_type": "code",
   "execution_count": 12,
   "id": "ab3230c2-2ea3-4cc2-85a7-9c05a01a6f65",
   "metadata": {},
   "outputs": [],
   "source": [
    "# Execute this cell by clicking Shift + Enter\n",
    "\n",
    "#2+3"
   ]
  },
  {
   "cell_type": "code",
   "execution_count": 13,
   "id": "b345d8f5-5cf7-4dfc-b5de-289ff3ab5a6b",
   "metadata": {},
   "outputs": [
    {
     "data": {
      "text/plain": [
       "'Let us explore python without coding.'"
      ]
     },
     "execution_count": 13,
     "metadata": {},
     "output_type": "execute_result"
    }
   ],
   "source": [
    "#Displaying a string message\n",
    "\"Let us explore python without coding.\"\n"
   ]
  },
  {
   "cell_type": "code",
   "execution_count": 14,
   "id": "b22f3249-59d1-4768-8475-49222172ec82",
   "metadata": {},
   "outputs": [
    {
     "data": {
      "text/plain": [
       "'Let us explore python without coding.'"
      ]
     },
     "execution_count": 14,
     "metadata": {},
     "output_type": "execute_result"
    }
   ],
   "source": [
    "#Displaying a string message\n",
    "'Let us explore python without coding.'"
   ]
  },
  {
   "cell_type": "code",
   "execution_count": 15,
   "id": "d4bb8688-2243-41be-97ea-4cf20358cdf6",
   "metadata": {},
   "outputs": [
    {
     "data": {
      "text/plain": [
       "15"
      ]
     },
     "execution_count": 15,
     "metadata": {},
     "output_type": "execute_result"
    }
   ],
   "source": [
    "11+4"
   ]
  },
  {
   "cell_type": "code",
   "execution_count": 16,
   "id": "92989f73-d1c4-4f55-b5d3-eb7864bacc28",
   "metadata": {},
   "outputs": [
    {
     "data": {
      "text/plain": [
       "7500"
      ]
     },
     "execution_count": 16,
     "metadata": {},
     "output_type": "execute_result"
    }
   ],
   "source": [
    "150*50"
   ]
  },
  {
   "cell_type": "code",
   "execution_count": null,
   "id": "f1ce6746-3bcc-4eb9-8f1e-982435bab917",
   "metadata": {},
   "outputs": [],
   "source": []
  }
 ],
 "metadata": {
  "kernelspec": {
   "display_name": "Python 3 (ipykernel)",
   "language": "python",
   "name": "python3"
  },
  "language_info": {
   "codemirror_mode": {
    "name": "ipython",
    "version": 3
   },
   "file_extension": ".py",
   "mimetype": "text/x-python",
   "name": "python",
   "nbconvert_exporter": "python",
   "pygments_lexer": "ipython3",
   "version": "3.11.7"
  }
 },
 "nbformat": 4,
 "nbformat_minor": 5
}
